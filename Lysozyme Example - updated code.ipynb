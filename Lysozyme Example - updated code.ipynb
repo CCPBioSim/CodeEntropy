{
 "cells": [
  {
   "cell_type": "code",
   "execution_count": 8,
   "id": "363d85c4",
   "metadata": {},
   "outputs": [],
   "source": [
    "import pandas as pd\n",
    "import numpy as np\n",
    "from importlib.metadata import version"
   ]
  },
  {
   "cell_type": "code",
   "execution_count": 9,
   "id": "e6b8d51b",
   "metadata": {},
   "outputs": [],
   "source": [
    "import MDAnalysis as MDA"
   ]
  },
  {
   "cell_type": "code",
   "execution_count": 13,
   "id": "982069cd",
   "metadata": {},
   "outputs": [
    {
     "data": {
      "text/plain": [
       "'2.5.0'"
      ]
     },
     "execution_count": 13,
     "metadata": {},
     "output_type": "execute_result"
    }
   ],
   "source": [
    "version('MDAnalysis')"
   ]
  },
  {
   "cell_type": "code",
   "execution_count": null,
   "id": "b9f271a9",
   "metadata": {},
   "outputs": [],
   "source": []
  }
 ],
 "metadata": {
  "kernelspec": {
   "display_name": "Python 3 (ipykernel)",
   "language": "python",
   "name": "python3"
  },
  "language_info": {
   "codemirror_mode": {
    "name": "ipython",
    "version": 3
   },
   "file_extension": ".py",
   "mimetype": "text/x-python",
   "name": "python",
   "nbconvert_exporter": "python",
   "pygments_lexer": "ipython3",
   "version": "3.9.13"
  }
 },
 "nbformat": 4,
 "nbformat_minor": 5
}
