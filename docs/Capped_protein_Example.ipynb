{
 "cells": [
  {
   "cell_type": "markdown",
   "id": "b062a235-be79-4897-9f63-73f3d5fa411d",
   "metadata": {},
   "source": [
    "# Calculate Solvent Entropy for a capped amino acid"
   ]
  },
  {
   "cell_type": "markdown",
   "id": "7ab57875-f604-491b-a08d-85cb5386f9e3",
   "metadata": {},
   "source": [
    "## Load Data"
   ]
  },
  {
   "cell_type": "markdown",
   "id": "3fb95f32-d4ff-46a1-b6a8-dea0011f07a4",
   "metadata": {},
   "source": [
    "1. Load data into MDAnalysis Universe"
   ]
  },
  {
   "cell_type": "code",
   "execution_count": 1,
   "id": "fadb5a2e-d401-418f-bf43-5bb1771d052e",
   "metadata": {},
   "outputs": [],
   "source": [
    "import MDAnalysis as mda\n",
    "# set the working dir to the root of repo inorder to use these path\n",
    "tprfile = \"data/molecules.prmtop\"\n",
    "trrfile = \"data/data.trr\"\n",
    "u = mda.Universe(tprfile, trrfile)"
   ]
  },
  {
   "cell_type": "markdown",
   "id": "289d84e8-c4f5-48d2-8c91-6c9d7243a351",
   "metadata": {},
   "source": [
    "2. Load data into POSEIDON object"
   ]
  },
  {
   "cell_type": "code",
   "execution_count": 2,
   "id": "b6a0fd0c-2bb1-4c90-a90b-b094a976ee3b",
   "metadata": {},
   "outputs": [
    {
     "name": "stdout",
     "output_type": "stream",
     "text": [
      "2022-06-30 14:02:39.497272\n",
      "frame = 0\n",
      "< Timestep 0 with unit cell dimensions [30.67833  30.40052  29.490604 90.       90.       90.      ] >\n",
      "0:00:01.521913\n",
      "frame = 1\n",
      "< Timestep 1 with unit cell dimensions [30.682182 30.404337 29.494312 90.       90.       90.      ] >\n",
      "0:00:02.572888\n",
      "frame = 2\n",
      "< Timestep 2 with unit cell dimensions [30.713255 30.435127 29.524178 90.       90.       90.      ] >\n",
      "0:00:03.637349\n",
      "frame = 3\n",
      "< Timestep 3 with unit cell dimensions [30.598316 30.321232 29.41369  90.       90.       90.      ] >\n",
      "0:00:04.678439\n",
      "frame = 4\n",
      "< Timestep 4 with unit cell dimensions [30.618622 30.341354 29.43321  90.       90.       90.      ] >\n",
      "0:00:05.883773\n",
      "frame = 5\n",
      "< Timestep 5 with unit cell dimensions [30.619095 30.341824 29.433666 90.       90.       90.      ] >\n",
      "0:00:07.016012\n",
      "frame = 6\n",
      "< Timestep 6 with unit cell dimensions [30.738136 30.459784 29.5481   90.       90.       90.      ] >\n",
      "0:00:08.035066\n",
      "frame = 7\n",
      "< Timestep 7 with unit cell dimensions [30.694881 30.416918 29.506514 90.       90.       90.      ] >\n",
      "0:00:09.121570\n",
      "frame = 8\n",
      "< Timestep 8 with unit cell dimensions [30.644718 30.36721  29.458292 90.       90.       90.      ] >\n",
      "0:00:10.153657\n",
      "frame = 9\n",
      "< Timestep 9 with unit cell dimensions [30.726116 30.447872 29.536541 90.       90.       90.      ] >\n",
      "0:00:11.302036\n",
      "frame = 10\n",
      "< Timestep 10 with unit cell dimensions [30.580582 30.303658 29.39664  90.       90.       90.      ] >\n",
      "0:00:12.495815\n",
      "frame = 11\n",
      "< Timestep 11 with unit cell dimensions [30.772951 30.494282 29.581562 90.       90.       90.      ] >\n",
      "0:00:13.531333\n",
      "frame = 12\n",
      "< Timestep 12 with unit cell dimensions [30.772266 30.493605 29.580906 90.       90.       90.      ] >\n",
      "0:00:14.756963\n",
      "frame = 13\n",
      "< Timestep 13 with unit cell dimensions [30.58512  30.308151 29.401005 90.       90.       90.      ] >\n",
      "0:00:15.946092\n",
      "frame = 14\n",
      "< Timestep 14 with unit cell dimensions [30.599762 30.322662 29.415077 90.       90.       90.      ] >\n",
      "0:00:17.018432\n",
      "frame = 15\n",
      "< Timestep 15 with unit cell dimensions [30.746477 30.468048 29.556114 90.       90.       90.      ] >\n",
      "0:00:18.067639\n",
      "frame = 16\n",
      "< Timestep 16 with unit cell dimensions [30.764982 30.486385 29.573902 90.       90.       90.      ] >\n",
      "0:00:19.290882\n",
      "frame = 17\n",
      "< Timestep 17 with unit cell dimensions [30.672724 30.394962 29.485216 90.       90.       90.      ] >\n",
      "0:00:20.361321\n",
      "frame = 18\n",
      "< Timestep 18 with unit cell dimensions [30.674246 30.396471 29.48668  90.       90.       90.      ] >\n",
      "0:00:21.491847\n",
      "frame = 19\n",
      "< Timestep 19 with unit cell dimensions [30.699165 30.421165 29.510633 90.       90.       90.      ] >\n",
      "0:00:22.582298\n",
      "0:00:22.582866\n"
     ]
    }
   ],
   "source": [
    "from CodeEntropy.ClassCollection.PoseidonClass import Poseidon\n",
    "poseidon_object = Poseidon(container=u, start=0, end=20)"
   ]
  },
  {
   "cell_type": "markdown",
   "id": "5fd37e4e-1fc5-4a30-84b3-863f19cbb0b6",
   "metadata": {},
   "source": [
    "## Calculate Entropy"
   ]
  },
  {
   "cell_type": "markdown",
   "id": "41cc97b9-e89d-431c-9991-00a39f69f2a2",
   "metadata": {},
   "source": [
    "### Whole Molecule level"
   ]
  },
  {
   "cell_type": "code",
   "execution_count": 3,
   "id": "f5f77c6b-2b32-4321-9fab-f597f6371ac4",
   "metadata": {},
   "outputs": [
    {
     "name": "stdout",
     "output_type": "stream",
     "text": [
      "2022-06-30 14:03:04.107787\n",
      "\n",
      "solvent: ['WAT', 'wat', 'SOL', 'H2O', 'h2o', 'WAT_O', 'TIP3']\n",
      "\n",
      "water: ['WAT', 'wat', 'SOL', 'H2O', 'h2o', 'WAT_O', 'TIP3']\n",
      "\n",
      "1. Populate Dictionaries\n",
      "\n",
      "memory use: 0.231 GB\n",
      "0:00:00.001139\n",
      "memory use: 0.231 GB\n",
      "0:00:01.374287\n",
      "0:00:01.374803\n",
      "memory use: 0.231 GB\n",
      "\n",
      "Total number of frames: 20.0\n",
      "Number of atoms in each frame: 916\n",
      "Number of variables in each list: 19\n",
      "\n",
      "2. Process Dictionaries\n",
      "['moleculeLevel']\n",
      "---level: moleculeLevel\n",
      "\n",
      "\n",
      "0:00:01.557718\n",
      "{'moleculeLevel': {'solventData':    nearest assigned shell_num   variable      value count\n",
      "0      ACE      WAT       1.0  Sor_test2   4.489916   155\n",
      "1      ACE      WAT       1.0     Strans  47.114194   155\n",
      "2      ACE      WAT       1.0       Srot  21.518819   155\n",
      "3      ACE      WAT       1.0      count       7.75   155\n",
      "4      ARG      WAT       1.0  Sor_test2   4.389286   358\n",
      "5      ARG      WAT       1.0     Strans  46.659296   358\n",
      "6      ARG      WAT       1.0       Srot  21.813924   358\n",
      "7      ARG      WAT       1.0      count       17.9   358\n",
      "8      NME      WAT       1.0  Sor_test2   2.782703   117\n",
      "9      NME      WAT       1.0     Strans  46.479766   117\n",
      "10     NME      WAT       1.0       Srot  20.958346   117\n",
      "11     NME      WAT       1.0      count       5.85   117, 'soluteData':    resName      variable       value count\n",
      "0      ACE     WM_Strans    31.20938    20\n",
      "1      ACE       WM_Srot   18.233384    20\n",
      "2      ACE  WM_UA_Strans    1.450273    20\n",
      "3      ACE    WM_UA_Srot    17.25675    20\n",
      "4      ARG     WM_Strans   37.553747    20\n",
      "5      ARG       WM_Srot    10.55119    20\n",
      "6      ARG  WM_UA_Strans  203.095275    20\n",
      "7      ARG    WM_UA_Srot         NaN    20\n",
      "8      ARG       conf_AE   18.358527    20\n",
      "9      NME     WM_Strans   28.852401    20\n",
      "10     NME       WM_Srot    0.387749    20\n",
      "11     NME  WM_UA_Strans         0.0    20\n",
      "12     NME    WM_UA_Srot   27.433272    20}}\n"
     ]
    },
    {
     "name": "stderr",
     "output_type": "stream",
     "text": [
      "/home/donald/miniconda3/envs/CEtrial/lib/python3.10/site-packages/CodeEntropy/poseidon/analysis/EECalculation.py:859: RuntimeWarning: invalid value encountered in double_scalars\n",
      "  w = w ** 0.5\n"
     ]
    }
   ],
   "source": [
    "result_wm = poseidon_object.run_analysis(level_list = ['moleculeLevel'], verbose=False, forceUnits=\"Kcal\") # this is because the forces value supplied in this trajectory is in Kcal\n",
    "print(result_wm)"
   ]
  },
  {
   "cell_type": "markdown",
   "id": "6899945c-edb3-408c-a0ae-4035895b50e9",
   "metadata": {},
   "source": [
    "### Residue Level"
   ]
  },
  {
   "cell_type": "code",
   "execution_count": 4,
   "id": "2a32bbeb-0033-4958-84d6-cf05266b486d",
   "metadata": {},
   "outputs": [
    {
     "name": "stdout",
     "output_type": "stream",
     "text": [
      "2022-06-30 14:03:08.891780\n",
      "\n",
      "solvent: ['WAT', 'wat', 'SOL', 'H2O', 'h2o', 'WAT_O', 'TIP3']\n",
      "\n",
      "water: ['WAT', 'wat', 'SOL', 'H2O', 'h2o', 'WAT_O', 'TIP3']\n",
      "\n",
      "1. Populate Dictionaries\n",
      "\n",
      "memory use: 0.232 GB\n",
      "0:00:00.001426\n",
      "memory use: 0.232 GB\n",
      "0:00:01.297753\n",
      "0:00:01.298211\n",
      "memory use: 0.232 GB\n",
      "\n",
      "Total number of frames: 20.0\n",
      "Number of atoms in each frame: 916\n",
      "Number of variables in each list: 19\n",
      "\n",
      "2. Process Dictionaries\n",
      "['residLevel_resname']\n",
      "---level: residLevel_resname\n",
      "\n",
      "\n",
      "0:00:01.458315\n",
      "{'residLevel_resname': {'solventData':    nearest assigned shell_num   variable      value count\n",
      "0    ACE_1      WAT       1.0  Sor_test2   4.489916   155\n",
      "1    ACE_1      WAT       1.0     Strans  47.114194   155\n",
      "2    ACE_1      WAT       1.0       Srot  21.518819   155\n",
      "3    ACE_1      WAT       1.0      count       7.75   155\n",
      "4    ARG_2      WAT       1.0  Sor_test2   4.389286   358\n",
      "5    ARG_2      WAT       1.0     Strans  46.659296   358\n",
      "6    ARG_2      WAT       1.0       Srot  21.813924   358\n",
      "7    ARG_2      WAT       1.0      count       17.9   358\n",
      "8    NME_3      WAT       1.0  Sor_test2   2.782703   117\n",
      "9    NME_3      WAT       1.0     Strans  46.479766   117\n",
      "10   NME_3      WAT       1.0       Srot  20.958346   117\n",
      "11   NME_3      WAT       1.0      count       5.85   117, 'soluteData':    resName      variable       value count\n",
      "0    ACE_1     WM_Strans    31.20938    20\n",
      "1    ACE_1       WM_Srot   18.233384    20\n",
      "2    ACE_1  WM_UA_Strans    1.450273    20\n",
      "3    ACE_1    WM_UA_Srot    17.25675    20\n",
      "4    ARG_2     WM_Strans   37.553747    20\n",
      "5    ARG_2       WM_Srot    10.55119    20\n",
      "6    ARG_2  WM_UA_Strans  203.095275    20\n",
      "7    ARG_2    WM_UA_Srot         NaN    20\n",
      "8    ARG_2       conf_AE   18.358527    20\n",
      "9    NME_3     WM_Strans   28.852401    20\n",
      "10   NME_3       WM_Srot    0.387749    20\n",
      "11   NME_3  WM_UA_Strans         0.0    20\n",
      "12   NME_3    WM_UA_Srot   27.433272    20, 'contactMatrix':   centre_resid neighbour_resid count centre_resname neighbour_resname\n",
      "0            1               2   3.0          ACE_1               ARG\n",
      "1            1               3   0.1          ACE_1               NME\n",
      "2            2               1   3.0          ARG_2               ACE\n",
      "3            2               3   3.0          ARG_2               NME\n",
      "4            3               1   0.1          NME_3               ACE\n",
      "5            3               2   3.0          NME_3               ARG}}\n"
     ]
    },
    {
     "name": "stderr",
     "output_type": "stream",
     "text": [
      "/home/donald/miniconda3/envs/CEtrial/lib/python3.10/site-packages/CodeEntropy/poseidon/analysis/EECalculation.py:859: RuntimeWarning: invalid value encountered in double_scalars\n",
      "  w = w ** 0.5\n"
     ]
    }
   ],
   "source": [
    "result_res = poseidon_object.run_analysis(level_list = ['residLevel_resname'], verbose=False, forceUnits=\"Kcal\") # this is because the forces value supplied in this trajectory is in Kcal\n",
    "print(result_res)"
   ]
  },
  {
   "cell_type": "markdown",
   "id": "81e7011e-3dc9-4115-932f-0bbad538ae0a",
   "metadata": {},
   "source": [
    "### United Atom Level"
   ]
  },
  {
   "cell_type": "code",
   "execution_count": 5,
   "id": "33ebd4aa-d117-4812-b7e8-1faed30c88e0",
   "metadata": {},
   "outputs": [
    {
     "name": "stdout",
     "output_type": "stream",
     "text": [
      "2022-06-30 14:03:13.104061\n",
      "\n",
      "solvent: ['WAT', 'wat', 'SOL', 'H2O', 'h2o', 'WAT_O', 'TIP3']\n",
      "\n",
      "water: ['WAT', 'wat', 'SOL', 'H2O', 'h2o', 'WAT_O', 'TIP3']\n",
      "\n",
      "1. Populate Dictionaries\n",
      "\n",
      "memory use: 0.232 GB\n",
      "0:00:00.002788\n",
      "memory use: 0.233 GB\n",
      "0:00:01.388482\n",
      "0:00:01.388816\n",
      "memory use: 0.233 GB\n",
      "\n",
      "Total number of frames: 20.0\n",
      "Number of atoms in each frame: 916\n",
      "Number of variables in each list: 19\n",
      "\n",
      "2. Process Dictionaries\n",
      "['atomLevel']\n",
      "---level: atomLevel\n",
      "\n",
      "\n",
      "0:00:01.590813\n",
      "{'atomLevel': {'solventData':    nearest assigned shell_num   variable      value count\n",
      "0    ACE_C    WAT_O       1.0  Sor_test2   3.859492    90\n",
      "1    ACE_C    WAT_O       1.0     Strans   46.89642    90\n",
      "2    ACE_C    WAT_O       1.0       Srot  21.477797    90\n",
      "3    ACE_C    WAT_O       1.0      count        4.5    90\n",
      "4    ACE_O    WAT_O       1.0  Sor_test2   1.383652    65\n",
      "5    ACE_O    WAT_O       1.0     Strans  47.442017    65\n",
      "6    ACE_O    WAT_O       1.0       Srot  21.607751    65\n",
      "7    ACE_O    WAT_O       1.0      count       3.25    65\n",
      "8    ARG_C    WAT_O       1.0  Sor_test2   2.209787    94\n",
      "9    ARG_C    WAT_O       1.0     Strans  44.950488    94\n",
      "10   ARG_C    WAT_O       1.0       Srot  22.805753    94\n",
      "11   ARG_C    WAT_O       1.0      count        4.7    94\n",
      "12   ARG_N    WAT_O       1.0  Sor_test2    4.32251   213\n",
      "13   ARG_N    WAT_O       1.0     Strans  47.054251   213\n",
      "14   ARG_N    WAT_O       1.0       Srot  21.210664   213\n",
      "15   ARG_N    WAT_O       1.0      count      10.65   213\n",
      "16   ARG_O    WAT_O       1.0  Sor_test2   0.658554    51\n",
      "17   ARG_O    WAT_O       1.0     Strans  49.519626    51\n",
      "18   ARG_O    WAT_O       1.0       Srot  23.221778    51\n",
      "19   ARG_O    WAT_O       1.0      count       2.55    51\n",
      "20   NME_C    WAT_O       1.0  Sor_test2   2.876769    92\n",
      "21   NME_C    WAT_O       1.0     Strans  46.592128    92\n",
      "22   NME_C    WAT_O       1.0       Srot  20.791071    92\n",
      "23   NME_C    WAT_O       1.0      count        4.6    92\n",
      "24   NME_N    WAT_O       1.0  Sor_test2     0.3607    25\n",
      "25   NME_N    WAT_O       1.0     Strans  46.337027    25\n",
      "26   NME_N    WAT_O       1.0       Srot  21.698027    25\n",
      "27   NME_N    WAT_O       1.0      count       1.25    25, 'soluteData':    resName      variable       value count\n",
      "0    ACE_C     WM_Strans    31.20938    20\n",
      "1    ACE_C       WM_Srot   18.233384    20\n",
      "2    ACE_C  WM_UA_Strans    1.450273    20\n",
      "3    ACE_C    WM_UA_Srot    17.25675    20\n",
      "4    ARG_N     WM_Strans   37.553747    20\n",
      "5    ARG_N       WM_Srot    10.55119    20\n",
      "6    ARG_N  WM_UA_Strans  203.095275    20\n",
      "7    ARG_N    WM_UA_Srot         NaN    20\n",
      "8    ARG_N       conf_AE   18.358527    20\n",
      "9    NME_N     WM_Strans   28.852401    20\n",
      "10   NME_N       WM_Srot    0.387749    20\n",
      "11   NME_N  WM_UA_Strans         0.0    20\n",
      "12   NME_N    WM_UA_Srot   27.433272    20, 'contactMatrix':    centre_resid neighbour_resid count centre_resname neighbour_resname  \\\n",
      "0             1               2   1.0            ACE               ARG   \n",
      "1             2               3   1.0            ARG               NME   \n",
      "2             2               1   1.0            ARG               ACE   \n",
      "3             2               3   1.0            ARG               NME   \n",
      "4             1               2   1.0            ACE               ARG   \n",
      "5             3               2   1.0            NME               ARG   \n",
      "6             2               1   1.0            ARG               ACE   \n",
      "7             2               1   1.0            ARG               ACE   \n",
      "8             3               2   1.0            NME               ARG   \n",
      "9             3               1   0.1            NME               ACE   \n",
      "10            3               2   1.0            NME               ARG   \n",
      "11            1               2   1.0            ACE               ARG   \n",
      "12            1               3   0.1            ACE               NME   \n",
      "13            2               3   1.0            ARG               NME   \n",
      "\n",
      "   centre_atom neighbour_atom  \n",
      "0            C             CA  \n",
      "1            C            CH3  \n",
      "2           CA              C  \n",
      "3           CA              N  \n",
      "4          CH3              N  \n",
      "5          CH3              C  \n",
      "6            N            CH3  \n",
      "7            N              O  \n",
      "8            N             CA  \n",
      "9            N              O  \n",
      "10           N              O  \n",
      "11           O              N  \n",
      "12           O              N  \n",
      "13           O              N  }}\n"
     ]
    },
    {
     "name": "stderr",
     "output_type": "stream",
     "text": [
      "/home/donald/miniconda3/envs/CEtrial/lib/python3.10/site-packages/CodeEntropy/poseidon/analysis/EECalculation.py:859: RuntimeWarning: invalid value encountered in double_scalars\n",
      "  w = w ** 0.5\n"
     ]
    }
   ],
   "source": [
    "result_ua = poseidon_object.run_analysis(level_list = ['atomLevel'], verbose=False, forceUnits=\"Kcal\") # this is because the forces value supplied in this trajectory is in Kcal\n",
    "print(result_ua)"
   ]
  },
  {
   "cell_type": "markdown",
   "id": "0137f3df-31d8-49d6-abab-6bce5f1d2ca3",
   "metadata": {},
   "source": [
    "### Solute Contact"
   ]
  },
  {
   "cell_type": "code",
   "execution_count": 6,
   "id": "27ca66f2-04c2-4471-9fa7-23b6d392c26b",
   "metadata": {},
   "outputs": [
    {
     "name": "stdout",
     "output_type": "stream",
     "text": [
      "2022-06-30 14:03:19.556689\n",
      "\n",
      "solvent: ['WAT', 'wat', 'SOL', 'H2O', 'h2o', 'WAT_O', 'TIP3']\n",
      "\n",
      "water: ['WAT', 'wat', 'SOL', 'H2O', 'h2o', 'WAT_O', 'TIP3']\n",
      "\n",
      "1. Populate Dictionaries\n",
      "\n",
      "memory use: 0.233 GB\n",
      "0:00:00.001247\n",
      "memory use: 0.233 GB\n",
      "0:00:00.091347\n",
      "0:00:00.091990\n",
      "memory use: 0.233 GB\n",
      "\n",
      "Total number of frames: 20.0\n",
      "Number of atoms in each frame: 916\n",
      "Number of variables in each list: 19\n",
      "\n",
      "2. Process Dictionaries\n",
      "['soluteContacts']\n",
      "---level: soluteContacts\n",
      "\n",
      "\n",
      "0:00:00.190073\n",
      "{'soluteContacts': {'solventData':         nearest assigned shell_num   variable      value count\n",
      "0   ACE_1_ACE_1      WAT       1.0  Sor_test2   0.747622    19\n",
      "1   ACE_1_ACE_1      WAT       1.0     Strans  54.849501    19\n",
      "2   ACE_1_ACE_1      WAT       1.0       Srot   21.83436    19\n",
      "3   ACE_1_ACE_1      WAT       1.0      count       0.95    19\n",
      "4   ACE_1_ARG_2      WAT       1.0  Sor_test2   0.129079    26\n",
      "5   ACE_1_ARG_2      WAT       1.0     Strans  53.464565    26\n",
      "6   ACE_1_ARG_2      WAT       1.0       Srot  21.481491    26\n",
      "7   ACE_1_ARG_2      WAT       1.0      count        1.3    26\n",
      "8   ACE_1_NME_3      WAT       1.0  Sor_test2   0.029043    16\n",
      "9   ACE_1_NME_3      WAT       1.0     Strans  49.229698    16\n",
      "10  ACE_1_NME_3      WAT       1.0       Srot  26.038399    16\n",
      "11  ACE_1_NME_3      WAT       1.0      count        0.8    16\n",
      "12  ARG_2_ACE_1      WAT       1.0  Sor_test2   0.129079    26\n",
      "13  ARG_2_ACE_1      WAT       1.0     Strans  53.464565    26\n",
      "14  ARG_2_ACE_1      WAT       1.0       Srot  21.481491    26\n",
      "15  ARG_2_ACE_1      WAT       1.0      count        1.3    26\n",
      "16  ARG_2_ARG_2      WAT       1.0  Sor_test2   0.424278   104\n",
      "17  ARG_2_ARG_2      WAT       1.0     Strans  47.596492   104\n",
      "18  ARG_2_ARG_2      WAT       1.0       Srot  23.318138   104\n",
      "19  ARG_2_ARG_2      WAT       1.0      count        5.2   104\n",
      "20  ARG_2_NME_3      WAT       1.0  Sor_test2   0.733499    35\n",
      "21  ARG_2_NME_3      WAT       1.0     Strans  49.012885    35\n",
      "22  ARG_2_NME_3      WAT       1.0       Srot  20.595806    35\n",
      "23  ARG_2_NME_3      WAT       1.0      count       1.75    35\n",
      "24  NME_3_ACE_1      WAT       1.0  Sor_test2   0.029043    16\n",
      "25  NME_3_ACE_1      WAT       1.0     Strans  49.229698    16\n",
      "26  NME_3_ACE_1      WAT       1.0       Srot  26.038399    16\n",
      "27  NME_3_ACE_1      WAT       1.0      count        0.8    16\n",
      "28  NME_3_ARG_2      WAT       1.0  Sor_test2   0.733499    35\n",
      "29  NME_3_ARG_2      WAT       1.0     Strans  49.012885    35\n",
      "30  NME_3_ARG_2      WAT       1.0       Srot  20.595806    35\n",
      "31  NME_3_ARG_2      WAT       1.0      count       1.75    35\n",
      "32  NME_3_NME_3      WAT       1.0  Sor_test2   0.015884    13\n",
      "33  NME_3_NME_3      WAT       1.0     Strans  48.028634    13\n",
      "34  NME_3_NME_3      WAT       1.0       Srot  22.175048    13\n",
      "35  NME_3_NME_3      WAT       1.0      count       0.65    13, 'soluteData': Empty DataFrame\n",
      "Columns: [resName, variable, value, count]\n",
      "Index: []}}\n"
     ]
    }
   ],
   "source": [
    "result_solcon = poseidon_object.run_analysis(level_list = ['soluteContacts'], verbose=False, forceUnits=\"Kcal\") # this is because the forces value supplied in this trajectory is in Kcal\n",
    "print(result_solcon)"
   ]
  },
  {
   "cell_type": "code",
   "execution_count": null,
   "id": "8bbbbf65-8e67-4a06-9e92-2d515e31567d",
   "metadata": {},
   "outputs": [],
   "source": []
  }
 ],
 "metadata": {
  "kernelspec": {
   "display_name": "Python 3 (ipykernel)",
   "language": "python",
   "name": "python3"
  },
  "language_info": {
   "codemirror_mode": {
    "name": "ipython",
    "version": 3
   },
   "file_extension": ".py",
   "mimetype": "text/x-python",
   "name": "python",
   "nbconvert_exporter": "python",
   "pygments_lexer": "ipython3",
   "version": "3.10.4"
  }
 },
 "nbformat": 4,
 "nbformat_minor": 5
}
