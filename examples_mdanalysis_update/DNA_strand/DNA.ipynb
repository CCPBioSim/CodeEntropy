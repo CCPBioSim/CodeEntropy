{
 "cells": [
  {
   "cell_type": "markdown",
   "id": "8d72db4f-b2a3-45d7-a36f-70942e130825",
   "metadata": {},
   "source": [
    "# MDAnalysis 2.6.1"
   ]
  },
  {
   "cell_type": "markdown",
   "id": "57c67b39-4db4-4947-9ec4-c4f056224391",
   "metadata": {},
   "source": [
    "import numpy as np"
   ]
  },
  {
   "cell_type": "code",
   "execution_count": 2,
   "id": "1a752d67-161f-48e7-937d-187763ca1ae6",
   "metadata": {},
   "outputs": [
    {
     "data": {
      "text/plain": [
       "'1.22.4'"
      ]
     },
     "execution_count": 2,
     "metadata": {},
     "output_type": "execute_result"
    }
   ],
   "source": [
    "np.__version__"
   ]
  },
  {
   "cell_type": "code",
   "execution_count": 3,
   "id": "5bf35dcf-6193-4ec7-a16c-4624c6274483",
   "metadata": {},
   "outputs": [],
   "source": [
    "import pandas as pd"
   ]
  },
  {
   "cell_type": "code",
   "execution_count": 4,
   "id": "32a483b8-ddf0-4eba-ab9f-e1090055c55b",
   "metadata": {},
   "outputs": [
    {
     "data": {
      "text/plain": [
       "'2.1.0'"
      ]
     },
     "execution_count": 4,
     "metadata": {},
     "output_type": "execute_result"
    }
   ],
   "source": [
    "pd.__version__"
   ]
  },
  {
   "cell_type": "code",
   "execution_count": 5,
   "id": "9cb6a929-cda5-4827-87d0-bea8fe9416ee",
   "metadata": {},
   "outputs": [],
   "source": [
    "import psutil"
   ]
  },
  {
   "cell_type": "code",
   "execution_count": 6,
   "id": "b7080fc6-b4d6-4568-869c-210b4cda7e71",
   "metadata": {},
   "outputs": [
    {
     "data": {
      "text/plain": [
       "'5.9.0'"
      ]
     },
     "execution_count": 6,
     "metadata": {},
     "output_type": "execute_result"
    }
   ],
   "source": [
    "psutil.__version__"
   ]
  },
  {
   "cell_type": "code",
   "execution_count": 7,
   "id": "84937629",
   "metadata": {},
   "outputs": [
    {
     "name": "stdout",
     "output_type": "stream",
     "text": [
      "/home/ioana/anaconda3/envs/mdanalysis2.6.1/bin:/home/ioana/anaconda3/condabin:/home/ioana/.local/bin:/usr/local/sbin:/usr/local/bin:/usr/sbin:/usr/bin:/sbin:/bin:/usr/games:/usr/local/games:/snap/bin\n"
     ]
    }
   ],
   "source": [
    "!echo $PATH"
   ]
  },
  {
   "cell_type": "code",
   "execution_count": 10,
   "id": "4c98fc83-5a73-4b98-a1bd-3d1d9eeb39aa",
   "metadata": {},
   "outputs": [],
   "source": [
    "import MDAnalysis as mda"
   ]
  },
  {
   "cell_type": "code",
   "execution_count": 11,
   "id": "890338f3-609b-46ab-a0a3-88a064456699",
   "metadata": {},
   "outputs": [
    {
     "data": {
      "text/plain": [
       "'2.6.1'"
      ]
     },
     "execution_count": 11,
     "metadata": {},
     "output_type": "execute_result"
    }
   ],
   "source": [
    "mda.__version__"
   ]
  },
  {
   "cell_type": "markdown",
   "id": "8e662f4c",
   "metadata": {},
   "source": [
    "# Load into MDAnalysis Universe"
   ]
  },
  {
   "cell_type": "code",
   "execution_count": 12,
   "id": "ff875590",
   "metadata": {},
   "outputs": [],
   "source": [
    "tprfile= \"data/md_A4_dna.tpr\"\n",
    "trrfile= \"data/md_A4_dna_xf.trr\"\n",
    "u=mda.Universe(tprfile,trrfile)"
   ]
  },
  {
   "cell_type": "code",
   "execution_count": 13,
   "id": "e8996450",
   "metadata": {},
   "outputs": [
    {
     "data": {
      "text/plain": [
       "<Universe with 254 atoms>"
      ]
     },
     "execution_count": 13,
     "metadata": {},
     "output_type": "execute_result"
    }
   ],
   "source": [
    "u"
   ]
  },
  {
   "cell_type": "code",
   "execution_count": 14,
   "id": "24a6fcd3",
   "metadata": {},
   "outputs": [],
   "source": [
    "#struc=u.select_atoms(\"all\")\n",
    "#struc.write(\"dna.pdb\") # .tpr to .pdb file"
   ]
  },
  {
   "cell_type": "markdown",
   "id": "1d131f31",
   "metadata": {},
   "source": [
    "# Trim the data to reduce analysis time"
   ]
  },
  {
   "cell_type": "code",
   "execution_count": 16,
   "id": "720e8422",
   "metadata": {},
   "outputs": [],
   "source": [
    "from CodeEntropy.IO import MDAUniverseHelper as MDAHelper\n",
    "selection_string_pre_process= 'all'\n",
    "start = 3\n",
    "end = 40\n",
    "step = 1\n",
    "\n",
    "reduced_frame= MDAHelper.new_U_select_frame(u,start,end, step)\n",
    "\n",
    "reduced_atom=MDAHelper.new_U_select_atom(reduced_frame, selection_string_pre_process)"
   ]
  },
  {
   "cell_type": "code",
   "execution_count": 17,
   "id": "73e185a2",
   "metadata": {},
   "outputs": [
    {
     "data": {
      "text/plain": [
       "<Universe with 254 atoms>"
      ]
     },
     "execution_count": 17,
     "metadata": {},
     "output_type": "execute_result"
    }
   ],
   "source": [
    "reduced_atom"
   ]
  },
  {
   "cell_type": "markdown",
   "id": "eb1b0e3c",
   "metadata": {},
   "source": [
    "# Parse the data into CodeEntropy Object"
   ]
  },
  {
   "cell_type": "code",
   "execution_count": 18,
   "id": "1eae97f5",
   "metadata": {},
   "outputs": [
    {
     "name": "stdout",
     "output_type": "stream",
     "text": [
      "Number of atoms      : 254\n",
      "Number of frames     : 37\n"
     ]
    }
   ],
   "source": [
    "from CodeEntropy.ClassCollection import DataContainer as DC\n",
    "dataContainer = DC.DataContainer (reduced_atom)"
   ]
  },
  {
   "cell_type": "markdown",
   "id": "f0f30420",
   "metadata": {},
   "source": [
    "# Calculations"
   ]
  },
  {
   "cell_type": "code",
   "execution_count": 19,
   "id": "dd569c15",
   "metadata": {},
   "outputs": [],
   "source": [
    "from CodeEntropy.FunctionCollection import EntropyFunctions as EF\n",
    "selection_string=\"all\"\n",
    "axis_list=[\"C5'\",\"C4'\",\"C3'\"]\n",
    "outfile = None\n",
    "moutFile = None\n",
    "nmdFile = None\n",
    "csv_out = None\n",
    "tScale= 1.0\n",
    "fScale= 1.0\n",
    "temper =300.0 #temperature = 300K\n",
    "verbose =3\n",
    "thread=4"
   ]
  },
  {
   "cell_type": "markdown",
   "id": "81fa4bf7",
   "metadata": {},
   "source": [
    "## Molecule Level"
   ]
  },
  {
   "cell_type": "code",
   "execution_count": 20,
   "id": "0a8fb04e",
   "metadata": {},
   "outputs": [
    {
     "name": "stdout",
     "output_type": "stream",
     "text": [
      "------------------------------------------------------------\n",
      "          Hierarchy level. --> Whole molecule <--           \n",
      "------------------------------------------------------------\n",
      "Total number of beads at the whole molecule level = 1\n",
      "Assigning Translation and Rotation Axes @ whole molecule level-> Done\n",
      "Updating Local coordinates-> Done\n",
      "Updating Local forces-> Done\n",
      "Updating Local torques-> Done\n",
      "Weighting forces and torques-> Done\n",
      "Updating the submatrices ... \n",
      "Finished updating submatrix FF\n",
      "Finished updating submatrix TT\n",
      "Done\n",
      "Generating Quadrants-> Done\n",
      "Diagonalizing-> Done\n",
      "Changing the units of eigen values to SI units-> Done\n",
      "Sorting spectrum in ascending order of frequencies-> Done\n",
      "Entropy values:\n",
      "FF Entropy (Whole mol level)             : 48.3374 J/mol/K\n",
      "TT Entropy (Whole mol level)             : 43.2233 J/mol/K\n",
      "wm_entropyFF=48.33739005621703\n",
      "wm_entropyTT=43.22326663505889\n"
     ]
    }
   ],
   "source": [
    "wm_entropyFF, wm_entropyTT = EF.compute_entropy_whole_molecule_level(\n",
    "    arg_hostDataContainer = dataContainer,\n",
    "    arg_outFile = outfile,\n",
    "    arg_selector = selection_string,\n",
    "    arg_moutFile = moutFile,\n",
    "    arg_nmdFile = nmdFile,\n",
    "    arg_fScale = fScale,\n",
    "    arg_tScale = tScale,\n",
    "    arg_temper = temper,\n",
    "    arg_verbose = verbose\n",
    ")\n",
    "print(f\"wm_entropyFF={wm_entropyFF}\")\n",
    "print(f\"wm_entropyTT={wm_entropyTT}\")"
   ]
  },
  {
   "cell_type": "markdown",
   "id": "6a29b489",
   "metadata": {},
   "source": [
    "## Residue Level"
   ]
  },
  {
   "cell_type": "code",
   "execution_count": 21,
   "id": "9ffba7ab",
   "metadata": {},
   "outputs": [
    {
     "name": "stdout",
     "output_type": "stream",
     "text": [
      "------------------------------------------------------------\n",
      "             Hierarchy level. --> Residues <--              \n",
      "------------------------------------------------------------\n",
      "DA1\n",
      "DA2\n",
      "DA3\n",
      "DA4\n",
      "DT5\n",
      "DT6\n",
      "DT7\n",
      "DT8\n",
      "Total number of beads at the residue level = 8\n",
      "Assigning Translation Axes @ residue level-> Done\n",
      "Assigning Rotational Axes @ residue level->\n",
      "    1     2     3     4     5 \n",
      "    6     7     8 \n",
      "Done\n",
      "Updating Local forces-> Done\n",
      "Updating Local coordinates-> Done\n",
      "Updating Local torques-> Done\n",
      "Weighting forces and torques-> Done\n",
      "Updating the submatrices ... \n",
      "Finished updating submatrix FF\n",
      "Finished updating submatrix TT\n",
      "Done\n",
      "Generating Quadrants-> Done\n",
      "Diagonalizing-> Done\n",
      "Changing the units of eigen values to SI units-> Done\n",
      "Sorting spectrum in ascending order of frequencies-> Done\n",
      "Entropy values:\n",
      "FF Entropy (Residue level)               : 202.1649 J/mol/K\n",
      "TT Entropy (Residue level)               : 311.2150 J/mol/K\n",
      "res_entropyFF=202.1648873070285\n",
      "res_entropyTT=311.21497333032397\n"
     ]
    }
   ],
   "source": [
    "res_entropyFF, res_entropyTT = EF.compute_entropy_residue_level(\n",
    "    arg_hostDataContainer = dataContainer,\n",
    "    arg_outFile = outfile,\n",
    "    arg_selector = selection_string,\n",
    "    arg_moutFile = moutFile,\n",
    "    arg_nmdFile = nmdFile,\n",
    "    arg_fScale = fScale,\n",
    "    arg_tScale = tScale,\n",
    "    arg_temper = temper,\n",
    "    arg_verbose = verbose,\n",
    "    arg_axis_list=axis_list,\n",
    ")\n",
    "print(f\"res_entropyFF={res_entropyFF}\")\n",
    "print(f\"res_entropyTT={res_entropyTT}\")"
   ]
  },
  {
   "cell_type": "markdown",
   "id": "06199982",
   "metadata": {},
   "source": [
    "## United Atom Level (Multi process - to speed up operation)"
   ]
  },
  {
   "cell_type": "code",
   "execution_count": 22,
   "id": "5eca01c8",
   "metadata": {},
   "outputs": [
    {
     "name": "stdout",
     "output_type": "stream",
     "text": [
      "Finished updating submatrix FF\n",
      "Finished updating submatrix TT\n",
      "A shape change has occured (54,54) -> (21, 21)\n",
      "\n",
      "\n",
      "\n",
      "Finished updating submatrix FF\n",
      "Finished updating submatrix TT\n",
      "Finished updating submatrix FF\n",
      "A shape change has occured (63,63) -> (19, 19)\n",
      "Finished updating submatrix FF\n",
      "\n",
      "\n",
      "\n",
      "Finished updating submatrix TT\n",
      "Finished updating submatrix TT\n",
      "A shape change has occured (63,63) -> (21, 21)\n",
      "\n",
      "\n",
      "A shape change has occured (63,63) -> (19, 19)\n",
      "\n",
      "\n",
      "\n",
      "\n",
      "Finished updating submatrix FF\n",
      "Finished updating submatrix TT\n",
      "A shape change has occured (51,51) -> (21, 21)\n",
      "\n",
      "\n",
      "\n",
      "Finished updating submatrix FF\n",
      "Finished updating submatrix TT\n",
      "A shape change has occured (60,60) -> (19, 19)\n",
      "Finished updating submatrix FF\n",
      "\n",
      "\n",
      "\n",
      "Finished updating submatrix FF\n",
      "Finished updating submatrix TT\n",
      "A shape change has occured (60,60) -> (19, 19)\n",
      "\n",
      "\n",
      "\n",
      "Finished updating submatrix TT\n",
      "A shape change has occured (60,60) -> (21, 21)\n",
      "\n",
      "\n",
      "\n",
      "  RESNAME  RESID  FF_ENTROPY(J/mol/K)  TT_ENTROPY(J/mol/K)\n",
      "0      DA      1            44.510450            22.648880\n",
      "1      DA      2            34.731911            20.615160\n",
      "2      DA      3            36.109735            23.625295\n",
      "3      DA      4            38.205923            23.624781\n",
      "4      DT      5            57.674748            36.771516\n",
      "5      DT      6            47.126494            26.344506\n",
      "6      DT      7            44.461274            27.363316\n",
      "7      DT      8            39.417339            33.691735\n",
      "UA_entropyFF = 342.2378738899839\n",
      "UA_entropyTT = 214.6851895681265\n",
      "Per residue entropy:\n",
      "  RESNAME  RESID  FF_ENTROPY(J/mol/K)  TT_ENTROPY(J/mol/K)\n",
      "0      DA      1            44.510450            22.648880\n",
      "1      DA      2            34.731911            20.615160\n",
      "2      DA      3            36.109735            23.625295\n",
      "3      DA      4            38.205923            23.624781\n",
      "4      DT      5            57.674748            36.771516\n",
      "5      DT      6            47.126494            26.344506\n",
      "6      DT      7            44.461274            27.363316\n",
      "7      DT      8            39.417339            33.691735\n"
     ]
    }
   ],
   "source": [
    "UA_entropyFF, UA_entropyTT, res_df = EF.compute_entropy_UA_level_multiprocess(\n",
    "    arg_hostDataContainer = dataContainer,\n",
    "    arg_outFile = outfile,\n",
    "    arg_selector = selection_string,\n",
    "    arg_moutFile = moutFile,\n",
    "    arg_nmdFile = moutFile,\n",
    "    arg_fScale = fScale,\n",
    "    arg_tScale = tScale,\n",
    "    arg_temper = temper,\n",
    "    arg_verbose = verbose,\n",
    "    arg_axis_list = axis_list,\n",
    "    arg_thread=thread,\n",
    ")\n",
    "print(f\"UA_entropyFF = {UA_entropyFF}\")\n",
    "print(f\"UA_entropyTT = {UA_entropyTT}\")\n",
    "print(\"Per residue entropy:\")\n",
    "print(res_df)"
   ]
  },
  {
   "cell_type": "code",
   "execution_count": 24,
   "id": "843c94f2",
   "metadata": {},
   "outputs": [
    {
     "name": "stdout",
     "output_type": "stream",
     "text": [
      "342.2378738899839\n",
      "214.6851895681265\n"
     ]
    }
   ],
   "source": [
    "print(UA_entropyFF)\n",
    "print(UA_entropyTT)"
   ]
  },
  {
   "cell_type": "code",
   "execution_count": 25,
   "id": "b8cce928",
   "metadata": {},
   "outputs": [
    {
     "name": "stdout",
     "output_type": "stream",
     "text": [
      "------------------------------------------------------------\n",
      "Topographical entropy of residue side chains \n",
      "computed using all the dihedrals with AEM method\n",
      "------------------------------------------------------------\n",
      "----------Working on resid : 1 (DA)----------\n",
      "Found 18 exclusive dihedrals in residue DA1\n",
      "Found 18 dihedrals which collectively acquire 7 unique conformers\n",
      "Residue Topographical Entropy from AEM (DA 1) : 12.7386\n",
      "----------Working on resid : 2 (DA)----------\n",
      "Found 20 exclusive dihedrals in residue DA2\n",
      "Found 20 dihedrals which collectively acquire 4 unique conformers\n",
      "Residue Topographical Entropy from AEM (DA 2) : 7.6987\n",
      "----------Working on resid : 3 (DA)----------\n",
      "Found 20 exclusive dihedrals in residue DA3\n",
      "Found 20 dihedrals which collectively acquire 2 unique conformers\n",
      "Residue Topographical Entropy from AEM (DA 3) : 2.8480\n",
      "----------Working on resid : 4 (DA)----------\n",
      "Found 19 exclusive dihedrals in residue DA4\n",
      "Found 19 dihedrals which collectively acquire 2 unique conformers\n",
      "Residue Topographical Entropy from AEM (DA 4) : 1.0331\n",
      "----------Working on resid : 5 (DT)----------\n",
      "Found 14 exclusive dihedrals in residue DT5\n",
      "Found 14 dihedrals which collectively acquire 4 unique conformers\n",
      "Residue Topographical Entropy from AEM (DT 5) : 7.8987\n",
      "----------Working on resid : 6 (DT)----------\n",
      "Found 16 exclusive dihedrals in residue DT6\n",
      "Found 16 dihedrals which collectively acquire 2 unique conformers\n",
      "Residue Topographical Entropy from AEM (DT 6) : 1.0331\n",
      "----------Working on resid : 7 (DT)----------\n",
      "Found 16 exclusive dihedrals in residue DT7\n",
      "Found 16 dihedrals which collectively acquire 2 unique conformers\n",
      "Residue Topographical Entropy from AEM (DT 7) : 1.0331\n",
      "----------Working on resid : 8 (DT)----------\n",
      "Found 15 exclusive dihedrals in residue DT8\n",
      "Found 15 dihedrals which collectively acquire 1 unique conformers\n",
      "Residue Topographical Entropy from AEM (DT 8) : -0.0000\n",
      "------------------------------------------------------------\n",
      "Total Topog. Entropy (AEM)               :          34.283\n",
      "------------------------------------------------------------\n",
      "result_entropyAEM = 34.283354621246964\n"
     ]
    }
   ],
   "source": [
    "result_entropyAEM = EF.compute_topographical_entropy_AEM(\n",
    "    arg_hostDataContainer = dataContainer,\n",
    "    arg_selector = selection_string,\n",
    "    arg_outFile = outfile,\n",
    "    arg_verbose = verbose\n",
    ")\n",
    "\n",
    "print(f\"result_entropyAEM = {result_entropyAEM}\")"
   ]
  },
  {
   "cell_type": "code",
   "execution_count": 26,
   "id": "1fcba906",
   "metadata": {},
   "outputs": [],
   "source": [
    "total_entropy=wm_entropyFF+wm_entropyTT+res_entropyFF+res_entropyTT+ UA_entropyFF + UA_entropyTT + result_entropyAEM"
   ]
  },
  {
   "cell_type": "code",
   "execution_count": 27,
   "id": "47499a21",
   "metadata": {},
   "outputs": [
    {
     "name": "stdout",
     "output_type": "stream",
     "text": [
      "1196.1469354079857\n"
     ]
    }
   ],
   "source": [
    "print(total_entropy)"
   ]
  },
  {
   "cell_type": "code",
   "execution_count": null,
   "id": "0a6ced7d-ef4e-4531-9919-aaffdf832a73",
   "metadata": {},
   "outputs": [],
   "source": []
  }
 ],
 "metadata": {
  "kernelspec": {
   "display_name": "Python 3 (ipykernel)",
   "language": "python",
   "name": "python3"
  },
  "language_info": {
   "codemirror_mode": {
    "name": "ipython",
    "version": 3
   },
   "file_extension": ".py",
   "mimetype": "text/x-python",
   "name": "python",
   "nbconvert_exporter": "python",
   "pygments_lexer": "ipython3",
   "version": "3.10.12"
  }
 },
 "nbformat": 4,
 "nbformat_minor": 5
}
